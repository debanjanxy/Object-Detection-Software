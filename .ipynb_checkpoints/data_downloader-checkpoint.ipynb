{
 "cells": [
  {
   "cell_type": "code",
   "execution_count": 23,
   "metadata": {},
   "outputs": [
    {
     "name": "stdout",
     "output_type": "stream",
     "text": [
      "Latitude : 19.133157\n",
      "Longitude : 72.914236\n",
      "Zoom level : 15\n"
     ]
    }
   ],
   "source": [
    "#input module\n",
    "import urllib.request\n",
    "\n",
    "lat = float(input('Latitude : '))\n",
    "long = float(input('Longitude : '))\n",
    "zoom = int(input('Zoom level : '))"
   ]
  },
  {
   "cell_type": "code",
   "execution_count": 24,
   "metadata": {},
   "outputs": [],
   "source": [
    "#data downloading module\n",
    "for i in range(100):\n",
    "    filename = 'map'+str(i)+'.png'\n",
    "    lt = str(lat)\n",
    "    lg = str(long)\n",
    "    url = 'https://maps.googleapis.com/maps/api/staticmap?center='+lt+','+lg+'&zoom='+str(zoom)+'&size=512x512&maptype=satellite'\n",
    "    img = urllib.request.urlretrieve(url,filename)\n",
    "    lat = lat - 0.001\n",
    "    long = long - 0.001"
   ]
  }
 ],
 "metadata": {
  "kernelspec": {
   "display_name": "Python 3",
   "language": "python",
   "name": "python3"
  },
  "language_info": {
   "codemirror_mode": {
    "name": "ipython",
    "version": 3
   },
   "file_extension": ".py",
   "mimetype": "text/x-python",
   "name": "python",
   "nbconvert_exporter": "python",
   "pygments_lexer": "ipython3",
   "version": "3.5.2"
  }
 },
 "nbformat": 4,
 "nbformat_minor": 2
}
